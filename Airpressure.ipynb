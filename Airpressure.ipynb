{
 "cells": [
  {
   "cell_type": "code",
   "execution_count": 1,
   "id": "3b994ede",
   "metadata": {},
   "outputs": [],
   "source": [
    "import pandas as pd"
   ]
  },
  {
   "cell_type": "code",
   "execution_count": 15,
   "id": "8091b09a",
   "metadata": {},
   "outputs": [
    {
     "data": {
      "text/html": [
       "<div>\n",
       "<style scoped>\n",
       "    .dataframe tbody tr th:only-of-type {\n",
       "        vertical-align: middle;\n",
       "    }\n",
       "\n",
       "    .dataframe tbody tr th {\n",
       "        vertical-align: top;\n",
       "    }\n",
       "\n",
       "    .dataframe thead th {\n",
       "        text-align: right;\n",
       "    }\n",
       "</style>\n",
       "<table border=\"1\" class=\"dataframe\">\n",
       "  <thead>\n",
       "    <tr style=\"text-align: right;\">\n",
       "      <th></th>\n",
       "      <th>SoratenaID</th>\n",
       "      <th>DATE(UTC)</th>\n",
       "      <th>ARPRSS</th>\n",
       "      <th>SoratenaName</th>\n",
       "      <th>LATD</th>\n",
       "      <th>LOND</th>\n",
       "    </tr>\n",
       "  </thead>\n",
       "  <tbody>\n",
       "    <tr>\n",
       "      <th>0</th>\n",
       "      <td>1001</td>\n",
       "      <td>2022-01-15 11:00:00</td>\n",
       "      <td>997.7</td>\n",
       "      <td>鶴居タンチョウパパ</td>\n",
       "      <td>43.226</td>\n",
       "      <td>144.309</td>\n",
       "    </tr>\n",
       "    <tr>\n",
       "      <th>1</th>\n",
       "      <td>1001</td>\n",
       "      <td>2022-01-15 11:01:00</td>\n",
       "      <td>997.7</td>\n",
       "      <td>鶴居タンチョウパパ</td>\n",
       "      <td>43.226</td>\n",
       "      <td>144.309</td>\n",
       "    </tr>\n",
       "    <tr>\n",
       "      <th>2</th>\n",
       "      <td>1001</td>\n",
       "      <td>2022-01-15 11:02:00</td>\n",
       "      <td>997.8</td>\n",
       "      <td>鶴居タンチョウパパ</td>\n",
       "      <td>43.226</td>\n",
       "      <td>144.309</td>\n",
       "    </tr>\n",
       "    <tr>\n",
       "      <th>3</th>\n",
       "      <td>1001</td>\n",
       "      <td>2022-01-15 11:03:00</td>\n",
       "      <td>997.8</td>\n",
       "      <td>鶴居タンチョウパパ</td>\n",
       "      <td>43.226</td>\n",
       "      <td>144.309</td>\n",
       "    </tr>\n",
       "    <tr>\n",
       "      <th>4</th>\n",
       "      <td>1001</td>\n",
       "      <td>2022-01-15 11:04:00</td>\n",
       "      <td>997.9</td>\n",
       "      <td>鶴居タンチョウパパ</td>\n",
       "      <td>43.226</td>\n",
       "      <td>144.309</td>\n",
       "    </tr>\n",
       "  </tbody>\n",
       "</table>\n",
       "</div>"
      ],
      "text/plain": [
       "   SoratenaID            DATE(UTC)  ARPRSS SoratenaName    LATD     LOND\n",
       "0        1001  2022-01-15 11:00:00   997.7    鶴居タンチョウパパ  43.226  144.309\n",
       "1        1001  2022-01-15 11:01:00   997.7    鶴居タンチョウパパ  43.226  144.309\n",
       "2        1001  2022-01-15 11:02:00   997.8    鶴居タンチョウパパ  43.226  144.309\n",
       "3        1001  2022-01-15 11:03:00   997.8    鶴居タンチョウパパ  43.226  144.309\n",
       "4        1001  2022-01-15 11:04:00   997.9    鶴居タンチョウパパ  43.226  144.309"
      ]
     },
     "execution_count": 15,
     "metadata": {},
     "output_type": "execute_result"
    }
   ],
   "source": [
    "df = pd.read_csv('./data/soratena_tonga.csv',date_parser=\"yy-mm-dd hh:mm:ss\")\n",
    "df.head()"
   ]
  },
  {
   "cell_type": "code",
   "execution_count": 18,
   "id": "cbebe80c",
   "metadata": {},
   "outputs": [
    {
     "data": {
      "text/plain": [
       "str"
      ]
     },
     "execution_count": 18,
     "metadata": {},
     "output_type": "execute_result"
    }
   ],
   "source": [
    "type(df[\"DATE(UTC)\"][0])"
   ]
  },
  {
   "cell_type": "code",
   "execution_count": 4,
   "id": "ba11341e",
   "metadata": {},
   "outputs": [
    {
     "data": {
      "text/html": [
       "<div>\n",
       "<style scoped>\n",
       "    .dataframe tbody tr th:only-of-type {\n",
       "        vertical-align: middle;\n",
       "    }\n",
       "\n",
       "    .dataframe tbody tr th {\n",
       "        vertical-align: top;\n",
       "    }\n",
       "\n",
       "    .dataframe thead th {\n",
       "        text-align: right;\n",
       "    }\n",
       "</style>\n",
       "<table border=\"1\" class=\"dataframe\">\n",
       "  <thead>\n",
       "    <tr style=\"text-align: right;\">\n",
       "      <th></th>\n",
       "      <th>SoratenaID</th>\n",
       "      <th>ARPRSS</th>\n",
       "      <th>LATD</th>\n",
       "      <th>LOND</th>\n",
       "    </tr>\n",
       "  </thead>\n",
       "  <tbody>\n",
       "    <tr>\n",
       "      <th>count</th>\n",
       "      <td>764935.000000</td>\n",
       "      <td>764935.000000</td>\n",
       "      <td>764935.000000</td>\n",
       "      <td>764935.000000</td>\n",
       "    </tr>\n",
       "    <tr>\n",
       "      <th>mean</th>\n",
       "      <td>21404.936413</td>\n",
       "      <td>1000.603509</td>\n",
       "      <td>35.887148</td>\n",
       "      <td>136.873705</td>\n",
       "    </tr>\n",
       "    <tr>\n",
       "      <th>std</th>\n",
       "      <td>13172.020942</td>\n",
       "      <td>27.311418</td>\n",
       "      <td>2.783114</td>\n",
       "      <td>3.646831</td>\n",
       "    </tr>\n",
       "    <tr>\n",
       "      <th>min</th>\n",
       "      <td>1001.000000</td>\n",
       "      <td>828.700000</td>\n",
       "      <td>24.330000</td>\n",
       "      <td>123.819000</td>\n",
       "    </tr>\n",
       "    <tr>\n",
       "      <th>25%</th>\n",
       "      <td>11073.000000</td>\n",
       "      <td>995.400000</td>\n",
       "      <td>34.435000</td>\n",
       "      <td>134.238000</td>\n",
       "    </tr>\n",
       "    <tr>\n",
       "      <th>50%</th>\n",
       "      <td>21056.000000</td>\n",
       "      <td>1010.500000</td>\n",
       "      <td>35.383000</td>\n",
       "      <td>137.189000</td>\n",
       "    </tr>\n",
       "    <tr>\n",
       "      <th>75%</th>\n",
       "      <td>32014.000000</td>\n",
       "      <td>1016.700000</td>\n",
       "      <td>36.539000</td>\n",
       "      <td>139.798000</td>\n",
       "    </tr>\n",
       "    <tr>\n",
       "      <th>max</th>\n",
       "      <td>47039.000000</td>\n",
       "      <td>1032.500000</td>\n",
       "      <td>45.448000</td>\n",
       "      <td>145.582000</td>\n",
       "    </tr>\n",
       "  </tbody>\n",
       "</table>\n",
       "</div>"
      ],
      "text/plain": [
       "          SoratenaID         ARPRSS           LATD           LOND\n",
       "count  764935.000000  764935.000000  764935.000000  764935.000000\n",
       "mean    21404.936413    1000.603509      35.887148     136.873705\n",
       "std     13172.020942      27.311418       2.783114       3.646831\n",
       "min      1001.000000     828.700000      24.330000     123.819000\n",
       "25%     11073.000000     995.400000      34.435000     134.238000\n",
       "50%     21056.000000    1010.500000      35.383000     137.189000\n",
       "75%     32014.000000    1016.700000      36.539000     139.798000\n",
       "max     47039.000000    1032.500000      45.448000     145.582000"
      ]
     },
     "execution_count": 4,
     "metadata": {},
     "output_type": "execute_result"
    }
   ],
   "source": [
    "df.describe()"
   ]
  },
  {
   "cell_type": "code",
   "execution_count": 5,
   "id": "29f81acc",
   "metadata": {},
   "outputs": [
    {
     "data": {
      "text/plain": [
       "(764935, 6)"
      ]
     },
     "execution_count": 5,
     "metadata": {},
     "output_type": "execute_result"
    }
   ],
   "source": [
    "df.shape"
   ]
  },
  {
   "cell_type": "code",
   "execution_count": 10,
   "id": "70d93351",
   "metadata": {},
   "outputs": [
    {
     "data": {
      "text/plain": [
       "(1583,)"
      ]
     },
     "execution_count": 10,
     "metadata": {},
     "output_type": "execute_result"
    }
   ],
   "source": [
    "df[\"SoratenaID\"].unique().shape"
   ]
  },
  {
   "cell_type": "code",
   "execution_count": 16,
   "id": "49da4fcd",
   "metadata": {},
   "outputs": [
    {
     "name": "stdout",
     "output_type": "stream",
     "text": [
      "<class 'pandas.core.frame.DataFrame'>\n",
      "RangeIndex: 764935 entries, 0 to 764934\n",
      "Data columns (total 6 columns):\n",
      " #   Column        Non-Null Count   Dtype  \n",
      "---  ------        --------------   -----  \n",
      " 0   SoratenaID    764935 non-null  int64  \n",
      " 1   DATE(UTC)     764935 non-null  object \n",
      " 2   ARPRSS        764935 non-null  float64\n",
      " 3   SoratenaName  764935 non-null  object \n",
      " 4   LATD          764935 non-null  float64\n",
      " 5   LOND          764935 non-null  float64\n",
      "dtypes: float64(3), int64(1), object(2)\n",
      "memory usage: 35.0+ MB\n"
     ]
    }
   ],
   "source": [
    "df.info()"
   ]
  }
 ],
 "metadata": {
  "kernelspec": {
   "display_name": "Python 3 (ipykernel)",
   "language": "python",
   "name": "python3"
  },
  "language_info": {
   "codemirror_mode": {
    "name": "ipython",
    "version": 3
   },
   "file_extension": ".py",
   "mimetype": "text/x-python",
   "name": "python",
   "nbconvert_exporter": "python",
   "pygments_lexer": "ipython3",
   "version": "3.9.7"
  }
 },
 "nbformat": 4,
 "nbformat_minor": 5
}
